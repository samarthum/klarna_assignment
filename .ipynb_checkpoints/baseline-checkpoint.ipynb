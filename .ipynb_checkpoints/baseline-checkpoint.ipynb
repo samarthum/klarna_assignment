{
 "cells": [
  {
   "cell_type": "markdown",
   "id": "d051464b",
   "metadata": {},
   "source": [
    "**Imports**"
   ]
  },
  {
   "cell_type": "code",
   "execution_count": 63,
   "id": "8428bb35",
   "metadata": {},
   "outputs": [],
   "source": [
    "import warnings\n",
    "warnings.filterwarnings('ignore')\n",
    "import pandas as pd\n",
    "import numpy as np\n",
    "import seaborn as sns\n",
    "import matplotlib.pyplot as plt\n",
    "import missingno as msno\n",
    "from xgboost import XGBClassifier\n",
    "from sklearn.manifold import TSNE\n",
    "from sklearn.decomposition import PCA\n",
    "from sklearn.ensemble import RandomForestClassifier\n",
    "from sklearn.preprocessing import OneHotEncoder\n",
    "from sklearn.model_selection import train_test_split\n",
    "from sklearn.metrics import classification_report, roc_auc_score"
   ]
  },
  {
   "cell_type": "markdown",
   "id": "5be48b43",
   "metadata": {},
   "source": [
    "**Read Data**"
   ]
  },
  {
   "cell_type": "code",
   "execution_count": 2,
   "id": "bdf64cb1",
   "metadata": {},
   "outputs": [],
   "source": [
    "# The data is separated by semicolon rather than the usual comma\n",
    "\n",
    "df = pd.read_csv('dataset.csv', sep=';')"
   ]
  },
  {
   "cell_type": "markdown",
   "id": "b9f15a87",
   "metadata": {},
   "source": [
    "**Data Exploration and checks**"
   ]
  },
  {
   "cell_type": "code",
   "execution_count": 3,
   "id": "6211f8be",
   "metadata": {},
   "outputs": [
    {
     "data": {
      "text/html": [
       "<div>\n",
       "<style scoped>\n",
       "    .dataframe tbody tr th:only-of-type {\n",
       "        vertical-align: middle;\n",
       "    }\n",
       "\n",
       "    .dataframe tbody tr th {\n",
       "        vertical-align: top;\n",
       "    }\n",
       "\n",
       "    .dataframe thead th {\n",
       "        text-align: right;\n",
       "    }\n",
       "</style>\n",
       "<table border=\"1\" class=\"dataframe\">\n",
       "  <thead>\n",
       "    <tr style=\"text-align: right;\">\n",
       "      <th></th>\n",
       "      <th>uuid</th>\n",
       "      <th>default</th>\n",
       "      <th>account_amount_added_12_24m</th>\n",
       "      <th>account_days_in_dc_12_24m</th>\n",
       "      <th>account_days_in_rem_12_24m</th>\n",
       "      <th>account_days_in_term_12_24m</th>\n",
       "      <th>account_incoming_debt_vs_paid_0_24m</th>\n",
       "      <th>account_status</th>\n",
       "      <th>account_worst_status_0_3m</th>\n",
       "      <th>account_worst_status_12_24m</th>\n",
       "      <th>...</th>\n",
       "      <th>status_3rd_last_archived_0_24m</th>\n",
       "      <th>status_max_archived_0_6_months</th>\n",
       "      <th>status_max_archived_0_12_months</th>\n",
       "      <th>status_max_archived_0_24_months</th>\n",
       "      <th>recovery_debt</th>\n",
       "      <th>sum_capital_paid_account_0_12m</th>\n",
       "      <th>sum_capital_paid_account_12_24m</th>\n",
       "      <th>sum_paid_inv_0_12m</th>\n",
       "      <th>time_hours</th>\n",
       "      <th>worst_status_active_inv</th>\n",
       "    </tr>\n",
       "  </thead>\n",
       "  <tbody>\n",
       "    <tr>\n",
       "      <th>0</th>\n",
       "      <td>63f69b2c-8b1c-4740-b78d-52ed9a4515ac</td>\n",
       "      <td>0.0</td>\n",
       "      <td>0</td>\n",
       "      <td>0.0</td>\n",
       "      <td>0.0</td>\n",
       "      <td>0.0</td>\n",
       "      <td>0.0</td>\n",
       "      <td>1.0</td>\n",
       "      <td>1.0</td>\n",
       "      <td>NaN</td>\n",
       "      <td>...</td>\n",
       "      <td>1</td>\n",
       "      <td>1</td>\n",
       "      <td>1</td>\n",
       "      <td>1</td>\n",
       "      <td>0</td>\n",
       "      <td>0</td>\n",
       "      <td>0</td>\n",
       "      <td>178839</td>\n",
       "      <td>9.653333</td>\n",
       "      <td>1.0</td>\n",
       "    </tr>\n",
       "    <tr>\n",
       "      <th>1</th>\n",
       "      <td>0e961183-8c15-4470-9a5e-07a1bd207661</td>\n",
       "      <td>0.0</td>\n",
       "      <td>0</td>\n",
       "      <td>0.0</td>\n",
       "      <td>0.0</td>\n",
       "      <td>0.0</td>\n",
       "      <td>NaN</td>\n",
       "      <td>1.0</td>\n",
       "      <td>1.0</td>\n",
       "      <td>1.0</td>\n",
       "      <td>...</td>\n",
       "      <td>1</td>\n",
       "      <td>1</td>\n",
       "      <td>2</td>\n",
       "      <td>2</td>\n",
       "      <td>0</td>\n",
       "      <td>0</td>\n",
       "      <td>0</td>\n",
       "      <td>49014</td>\n",
       "      <td>13.181389</td>\n",
       "      <td>NaN</td>\n",
       "    </tr>\n",
       "    <tr>\n",
       "      <th>2</th>\n",
       "      <td>d8edaae6-4368-44e0-941e-8328f203e64e</td>\n",
       "      <td>0.0</td>\n",
       "      <td>0</td>\n",
       "      <td>0.0</td>\n",
       "      <td>0.0</td>\n",
       "      <td>0.0</td>\n",
       "      <td>NaN</td>\n",
       "      <td>NaN</td>\n",
       "      <td>NaN</td>\n",
       "      <td>NaN</td>\n",
       "      <td>...</td>\n",
       "      <td>1</td>\n",
       "      <td>1</td>\n",
       "      <td>2</td>\n",
       "      <td>2</td>\n",
       "      <td>0</td>\n",
       "      <td>0</td>\n",
       "      <td>0</td>\n",
       "      <td>124839</td>\n",
       "      <td>11.561944</td>\n",
       "      <td>1.0</td>\n",
       "    </tr>\n",
       "    <tr>\n",
       "      <th>3</th>\n",
       "      <td>0095dfb6-a886-4e2a-b056-15ef45fdb0ef</td>\n",
       "      <td>0.0</td>\n",
       "      <td>0</td>\n",
       "      <td>NaN</td>\n",
       "      <td>NaN</td>\n",
       "      <td>NaN</td>\n",
       "      <td>NaN</td>\n",
       "      <td>NaN</td>\n",
       "      <td>NaN</td>\n",
       "      <td>NaN</td>\n",
       "      <td>...</td>\n",
       "      <td>1</td>\n",
       "      <td>1</td>\n",
       "      <td>1</td>\n",
       "      <td>1</td>\n",
       "      <td>0</td>\n",
       "      <td>0</td>\n",
       "      <td>0</td>\n",
       "      <td>324676</td>\n",
       "      <td>15.751111</td>\n",
       "      <td>1.0</td>\n",
       "    </tr>\n",
       "    <tr>\n",
       "      <th>4</th>\n",
       "      <td>c8f8b835-5647-4506-bf15-49105d8af30b</td>\n",
       "      <td>0.0</td>\n",
       "      <td>0</td>\n",
       "      <td>0.0</td>\n",
       "      <td>0.0</td>\n",
       "      <td>0.0</td>\n",
       "      <td>NaN</td>\n",
       "      <td>NaN</td>\n",
       "      <td>NaN</td>\n",
       "      <td>NaN</td>\n",
       "      <td>...</td>\n",
       "      <td>0</td>\n",
       "      <td>1</td>\n",
       "      <td>1</td>\n",
       "      <td>1</td>\n",
       "      <td>0</td>\n",
       "      <td>0</td>\n",
       "      <td>0</td>\n",
       "      <td>7100</td>\n",
       "      <td>12.698611</td>\n",
       "      <td>NaN</td>\n",
       "    </tr>\n",
       "  </tbody>\n",
       "</table>\n",
       "<p>5 rows × 43 columns</p>\n",
       "</div>"
      ],
      "text/plain": [
       "                                   uuid  default  account_amount_added_12_24m  \\\n",
       "0  63f69b2c-8b1c-4740-b78d-52ed9a4515ac      0.0                            0   \n",
       "1  0e961183-8c15-4470-9a5e-07a1bd207661      0.0                            0   \n",
       "2  d8edaae6-4368-44e0-941e-8328f203e64e      0.0                            0   \n",
       "3  0095dfb6-a886-4e2a-b056-15ef45fdb0ef      0.0                            0   \n",
       "4  c8f8b835-5647-4506-bf15-49105d8af30b      0.0                            0   \n",
       "\n",
       "   account_days_in_dc_12_24m  account_days_in_rem_12_24m  \\\n",
       "0                        0.0                         0.0   \n",
       "1                        0.0                         0.0   \n",
       "2                        0.0                         0.0   \n",
       "3                        NaN                         NaN   \n",
       "4                        0.0                         0.0   \n",
       "\n",
       "   account_days_in_term_12_24m  account_incoming_debt_vs_paid_0_24m  \\\n",
       "0                          0.0                                  0.0   \n",
       "1                          0.0                                  NaN   \n",
       "2                          0.0                                  NaN   \n",
       "3                          NaN                                  NaN   \n",
       "4                          0.0                                  NaN   \n",
       "\n",
       "   account_status  account_worst_status_0_3m  account_worst_status_12_24m  \\\n",
       "0             1.0                        1.0                          NaN   \n",
       "1             1.0                        1.0                          1.0   \n",
       "2             NaN                        NaN                          NaN   \n",
       "3             NaN                        NaN                          NaN   \n",
       "4             NaN                        NaN                          NaN   \n",
       "\n",
       "   ...  status_3rd_last_archived_0_24m  status_max_archived_0_6_months  \\\n",
       "0  ...                               1                               1   \n",
       "1  ...                               1                               1   \n",
       "2  ...                               1                               1   \n",
       "3  ...                               1                               1   \n",
       "4  ...                               0                               1   \n",
       "\n",
       "   status_max_archived_0_12_months  status_max_archived_0_24_months  \\\n",
       "0                                1                                1   \n",
       "1                                2                                2   \n",
       "2                                2                                2   \n",
       "3                                1                                1   \n",
       "4                                1                                1   \n",
       "\n",
       "   recovery_debt sum_capital_paid_account_0_12m  \\\n",
       "0              0                              0   \n",
       "1              0                              0   \n",
       "2              0                              0   \n",
       "3              0                              0   \n",
       "4              0                              0   \n",
       "\n",
       "  sum_capital_paid_account_12_24m  sum_paid_inv_0_12m  time_hours  \\\n",
       "0                               0              178839    9.653333   \n",
       "1                               0               49014   13.181389   \n",
       "2                               0              124839   11.561944   \n",
       "3                               0              324676   15.751111   \n",
       "4                               0                7100   12.698611   \n",
       "\n",
       "   worst_status_active_inv  \n",
       "0                      1.0  \n",
       "1                      NaN  \n",
       "2                      1.0  \n",
       "3                      1.0  \n",
       "4                      NaN  \n",
       "\n",
       "[5 rows x 43 columns]"
      ]
     },
     "execution_count": 3,
     "metadata": {},
     "output_type": "execute_result"
    }
   ],
   "source": [
    "df.head()"
   ]
  },
  {
   "cell_type": "code",
   "execution_count": 4,
   "id": "9fa3f111",
   "metadata": {},
   "outputs": [
    {
     "name": "stdout",
     "output_type": "stream",
     "text": [
      "<class 'pandas.core.frame.DataFrame'>\n",
      "RangeIndex: 99976 entries, 0 to 99975\n",
      "Data columns (total 43 columns):\n",
      " #   Column                               Non-Null Count  Dtype  \n",
      "---  ------                               --------------  -----  \n",
      " 0   uuid                                 99976 non-null  object \n",
      " 1   default                              89976 non-null  float64\n",
      " 2   account_amount_added_12_24m          99976 non-null  int64  \n",
      " 3   account_days_in_dc_12_24m            88140 non-null  float64\n",
      " 4   account_days_in_rem_12_24m           88140 non-null  float64\n",
      " 5   account_days_in_term_12_24m          88140 non-null  float64\n",
      " 6   account_incoming_debt_vs_paid_0_24m  40661 non-null  float64\n",
      " 7   account_status                       45603 non-null  float64\n",
      " 8   account_worst_status_0_3m            45603 non-null  float64\n",
      " 9   account_worst_status_12_24m          33215 non-null  float64\n",
      " 10  account_worst_status_3_6m            42274 non-null  float64\n",
      " 11  account_worst_status_6_12m           39626 non-null  float64\n",
      " 12  age                                  99976 non-null  int64  \n",
      " 13  avg_payment_span_0_12m               76140 non-null  float64\n",
      " 14  avg_payment_span_0_3m                50671 non-null  float64\n",
      " 15  merchant_category                    99976 non-null  object \n",
      " 16  merchant_group                       99976 non-null  object \n",
      " 17  has_paid                             99976 non-null  bool   \n",
      " 18  max_paid_inv_0_12m                   99976 non-null  float64\n",
      " 19  max_paid_inv_0_24m                   99976 non-null  float64\n",
      " 20  name_in_email                        99976 non-null  object \n",
      " 21  num_active_div_by_paid_inv_0_12m     77037 non-null  float64\n",
      " 22  num_active_inv                       99976 non-null  int64  \n",
      " 23  num_arch_dc_0_12m                    99976 non-null  int64  \n",
      " 24  num_arch_dc_12_24m                   99976 non-null  int64  \n",
      " 25  num_arch_ok_0_12m                    99976 non-null  int64  \n",
      " 26  num_arch_ok_12_24m                   99976 non-null  int64  \n",
      " 27  num_arch_rem_0_12m                   99976 non-null  int64  \n",
      " 28  num_arch_written_off_0_12m           81898 non-null  float64\n",
      " 29  num_arch_written_off_12_24m          81898 non-null  float64\n",
      " 30  num_unpaid_bills                     99976 non-null  int64  \n",
      " 31  status_last_archived_0_24m           99976 non-null  int64  \n",
      " 32  status_2nd_last_archived_0_24m       99976 non-null  int64  \n",
      " 33  status_3rd_last_archived_0_24m       99976 non-null  int64  \n",
      " 34  status_max_archived_0_6_months       99976 non-null  int64  \n",
      " 35  status_max_archived_0_12_months      99976 non-null  int64  \n",
      " 36  status_max_archived_0_24_months      99976 non-null  int64  \n",
      " 37  recovery_debt                        99976 non-null  int64  \n",
      " 38  sum_capital_paid_account_0_12m       99976 non-null  int64  \n",
      " 39  sum_capital_paid_account_12_24m      99976 non-null  int64  \n",
      " 40  sum_paid_inv_0_12m                   99976 non-null  int64  \n",
      " 41  time_hours                           99976 non-null  float64\n",
      " 42  worst_status_active_inv              30461 non-null  float64\n",
      "dtypes: bool(1), float64(19), int64(19), object(4)\n",
      "memory usage: 32.1+ MB\n"
     ]
    }
   ],
   "source": [
    "df.info()"
   ]
  },
  {
   "cell_type": "code",
   "execution_count": 5,
   "id": "640c745d",
   "metadata": {},
   "outputs": [
    {
     "data": {
      "text/html": [
       "<div>\n",
       "<style scoped>\n",
       "    .dataframe tbody tr th:only-of-type {\n",
       "        vertical-align: middle;\n",
       "    }\n",
       "\n",
       "    .dataframe tbody tr th {\n",
       "        vertical-align: top;\n",
       "    }\n",
       "\n",
       "    .dataframe thead th {\n",
       "        text-align: right;\n",
       "    }\n",
       "</style>\n",
       "<table border=\"1\" class=\"dataframe\">\n",
       "  <thead>\n",
       "    <tr style=\"text-align: right;\">\n",
       "      <th></th>\n",
       "      <th>default</th>\n",
       "      <th>account_amount_added_12_24m</th>\n",
       "      <th>account_days_in_dc_12_24m</th>\n",
       "      <th>account_days_in_rem_12_24m</th>\n",
       "      <th>account_days_in_term_12_24m</th>\n",
       "      <th>account_incoming_debt_vs_paid_0_24m</th>\n",
       "      <th>account_status</th>\n",
       "      <th>account_worst_status_0_3m</th>\n",
       "      <th>account_worst_status_12_24m</th>\n",
       "      <th>account_worst_status_3_6m</th>\n",
       "      <th>...</th>\n",
       "      <th>status_3rd_last_archived_0_24m</th>\n",
       "      <th>status_max_archived_0_6_months</th>\n",
       "      <th>status_max_archived_0_12_months</th>\n",
       "      <th>status_max_archived_0_24_months</th>\n",
       "      <th>recovery_debt</th>\n",
       "      <th>sum_capital_paid_account_0_12m</th>\n",
       "      <th>sum_capital_paid_account_12_24m</th>\n",
       "      <th>sum_paid_inv_0_12m</th>\n",
       "      <th>time_hours</th>\n",
       "      <th>worst_status_active_inv</th>\n",
       "    </tr>\n",
       "  </thead>\n",
       "  <tbody>\n",
       "    <tr>\n",
       "      <th>count</th>\n",
       "      <td>89976.000000</td>\n",
       "      <td>9.997600e+04</td>\n",
       "      <td>88140.000000</td>\n",
       "      <td>88140.000000</td>\n",
       "      <td>88140.000000</td>\n",
       "      <td>40661.000000</td>\n",
       "      <td>45603.000000</td>\n",
       "      <td>45603.000000</td>\n",
       "      <td>33215.000000</td>\n",
       "      <td>42274.000000</td>\n",
       "      <td>...</td>\n",
       "      <td>99976.000000</td>\n",
       "      <td>99976.000000</td>\n",
       "      <td>99976.000000</td>\n",
       "      <td>99976.000000</td>\n",
       "      <td>99976.000000</td>\n",
       "      <td>99976.000000</td>\n",
       "      <td>99976.000000</td>\n",
       "      <td>9.997600e+04</td>\n",
       "      <td>99976.000000</td>\n",
       "      <td>30461.000000</td>\n",
       "    </tr>\n",
       "    <tr>\n",
       "      <th>mean</th>\n",
       "      <td>0.014315</td>\n",
       "      <td>1.225515e+04</td>\n",
       "      <td>0.223043</td>\n",
       "      <td>5.044622</td>\n",
       "      <td>0.286896</td>\n",
       "      <td>1.331292</td>\n",
       "      <td>1.042168</td>\n",
       "      <td>1.172905</td>\n",
       "      <td>1.337348</td>\n",
       "      <td>1.185291</td>\n",
       "      <td>...</td>\n",
       "      <td>0.744299</td>\n",
       "      <td>0.800582</td>\n",
       "      <td>1.052233</td>\n",
       "      <td>1.226164</td>\n",
       "      <td>4.035429</td>\n",
       "      <td>10816.065386</td>\n",
       "      <td>6542.895325</td>\n",
       "      <td>3.920880e+04</td>\n",
       "      <td>15.329780</td>\n",
       "      <td>1.121762</td>\n",
       "    </tr>\n",
       "    <tr>\n",
       "      <th>std</th>\n",
       "      <td>0.118786</td>\n",
       "      <td>3.548148e+04</td>\n",
       "      <td>5.808117</td>\n",
       "      <td>22.863971</td>\n",
       "      <td>2.929910</td>\n",
       "      <td>26.482299</td>\n",
       "      <td>0.202713</td>\n",
       "      <td>0.420142</td>\n",
       "      <td>0.575043</td>\n",
       "      <td>0.443309</td>\n",
       "      <td>...</td>\n",
       "      <td>0.634912</td>\n",
       "      <td>0.719946</td>\n",
       "      <td>0.786121</td>\n",
       "      <td>0.833502</td>\n",
       "      <td>163.934564</td>\n",
       "      <td>26463.972170</td>\n",
       "      <td>19041.223585</td>\n",
       "      <td>9.064929e+04</td>\n",
       "      <td>5.031360</td>\n",
       "      <td>0.343660</td>\n",
       "    </tr>\n",
       "    <tr>\n",
       "      <th>min</th>\n",
       "      <td>0.000000</td>\n",
       "      <td>0.000000e+00</td>\n",
       "      <td>0.000000</td>\n",
       "      <td>0.000000</td>\n",
       "      <td>0.000000</td>\n",
       "      <td>0.000000</td>\n",
       "      <td>1.000000</td>\n",
       "      <td>1.000000</td>\n",
       "      <td>1.000000</td>\n",
       "      <td>1.000000</td>\n",
       "      <td>...</td>\n",
       "      <td>0.000000</td>\n",
       "      <td>0.000000</td>\n",
       "      <td>0.000000</td>\n",
       "      <td>0.000000</td>\n",
       "      <td>0.000000</td>\n",
       "      <td>0.000000</td>\n",
       "      <td>0.000000</td>\n",
       "      <td>0.000000e+00</td>\n",
       "      <td>0.000278</td>\n",
       "      <td>1.000000</td>\n",
       "    </tr>\n",
       "    <tr>\n",
       "      <th>25%</th>\n",
       "      <td>0.000000</td>\n",
       "      <td>0.000000e+00</td>\n",
       "      <td>0.000000</td>\n",
       "      <td>0.000000</td>\n",
       "      <td>0.000000</td>\n",
       "      <td>0.000000</td>\n",
       "      <td>1.000000</td>\n",
       "      <td>1.000000</td>\n",
       "      <td>1.000000</td>\n",
       "      <td>1.000000</td>\n",
       "      <td>...</td>\n",
       "      <td>0.000000</td>\n",
       "      <td>0.000000</td>\n",
       "      <td>1.000000</td>\n",
       "      <td>1.000000</td>\n",
       "      <td>0.000000</td>\n",
       "      <td>0.000000</td>\n",
       "      <td>0.000000</td>\n",
       "      <td>2.600000e+03</td>\n",
       "      <td>11.622708</td>\n",
       "      <td>1.000000</td>\n",
       "    </tr>\n",
       "    <tr>\n",
       "      <th>50%</th>\n",
       "      <td>0.000000</td>\n",
       "      <td>0.000000e+00</td>\n",
       "      <td>0.000000</td>\n",
       "      <td>0.000000</td>\n",
       "      <td>0.000000</td>\n",
       "      <td>0.152082</td>\n",
       "      <td>1.000000</td>\n",
       "      <td>1.000000</td>\n",
       "      <td>1.000000</td>\n",
       "      <td>1.000000</td>\n",
       "      <td>...</td>\n",
       "      <td>1.000000</td>\n",
       "      <td>1.000000</td>\n",
       "      <td>1.000000</td>\n",
       "      <td>1.000000</td>\n",
       "      <td>0.000000</td>\n",
       "      <td>0.000000</td>\n",
       "      <td>0.000000</td>\n",
       "      <td>1.599500e+04</td>\n",
       "      <td>15.792778</td>\n",
       "      <td>1.000000</td>\n",
       "    </tr>\n",
       "    <tr>\n",
       "      <th>75%</th>\n",
       "      <td>0.000000</td>\n",
       "      <td>4.937250e+03</td>\n",
       "      <td>0.000000</td>\n",
       "      <td>0.000000</td>\n",
       "      <td>0.000000</td>\n",
       "      <td>0.662952</td>\n",
       "      <td>1.000000</td>\n",
       "      <td>1.000000</td>\n",
       "      <td>2.000000</td>\n",
       "      <td>1.000000</td>\n",
       "      <td>...</td>\n",
       "      <td>1.000000</td>\n",
       "      <td>1.000000</td>\n",
       "      <td>1.000000</td>\n",
       "      <td>2.000000</td>\n",
       "      <td>0.000000</td>\n",
       "      <td>9029.750000</td>\n",
       "      <td>85.000000</td>\n",
       "      <td>4.384425e+04</td>\n",
       "      <td>19.542014</td>\n",
       "      <td>1.000000</td>\n",
       "    </tr>\n",
       "    <tr>\n",
       "      <th>max</th>\n",
       "      <td>1.000000</td>\n",
       "      <td>1.128775e+06</td>\n",
       "      <td>365.000000</td>\n",
       "      <td>365.000000</td>\n",
       "      <td>97.000000</td>\n",
       "      <td>3914.000000</td>\n",
       "      <td>4.000000</td>\n",
       "      <td>4.000000</td>\n",
       "      <td>4.000000</td>\n",
       "      <td>4.000000</td>\n",
       "      <td>...</td>\n",
       "      <td>5.000000</td>\n",
       "      <td>3.000000</td>\n",
       "      <td>5.000000</td>\n",
       "      <td>5.000000</td>\n",
       "      <td>36479.000000</td>\n",
       "      <td>571475.000000</td>\n",
       "      <td>341859.000000</td>\n",
       "      <td>2.962870e+06</td>\n",
       "      <td>23.999722</td>\n",
       "      <td>3.000000</td>\n",
       "    </tr>\n",
       "  </tbody>\n",
       "</table>\n",
       "<p>8 rows × 38 columns</p>\n",
       "</div>"
      ],
      "text/plain": [
       "            default  account_amount_added_12_24m  account_days_in_dc_12_24m  \\\n",
       "count  89976.000000                 9.997600e+04               88140.000000   \n",
       "mean       0.014315                 1.225515e+04                   0.223043   \n",
       "std        0.118786                 3.548148e+04                   5.808117   \n",
       "min        0.000000                 0.000000e+00                   0.000000   \n",
       "25%        0.000000                 0.000000e+00                   0.000000   \n",
       "50%        0.000000                 0.000000e+00                   0.000000   \n",
       "75%        0.000000                 4.937250e+03                   0.000000   \n",
       "max        1.000000                 1.128775e+06                 365.000000   \n",
       "\n",
       "       account_days_in_rem_12_24m  account_days_in_term_12_24m  \\\n",
       "count                88140.000000                 88140.000000   \n",
       "mean                     5.044622                     0.286896   \n",
       "std                     22.863971                     2.929910   \n",
       "min                      0.000000                     0.000000   \n",
       "25%                      0.000000                     0.000000   \n",
       "50%                      0.000000                     0.000000   \n",
       "75%                      0.000000                     0.000000   \n",
       "max                    365.000000                    97.000000   \n",
       "\n",
       "       account_incoming_debt_vs_paid_0_24m  account_status  \\\n",
       "count                         40661.000000    45603.000000   \n",
       "mean                              1.331292        1.042168   \n",
       "std                              26.482299        0.202713   \n",
       "min                               0.000000        1.000000   \n",
       "25%                               0.000000        1.000000   \n",
       "50%                               0.152082        1.000000   \n",
       "75%                               0.662952        1.000000   \n",
       "max                            3914.000000        4.000000   \n",
       "\n",
       "       account_worst_status_0_3m  account_worst_status_12_24m  \\\n",
       "count               45603.000000                 33215.000000   \n",
       "mean                    1.172905                     1.337348   \n",
       "std                     0.420142                     0.575043   \n",
       "min                     1.000000                     1.000000   \n",
       "25%                     1.000000                     1.000000   \n",
       "50%                     1.000000                     1.000000   \n",
       "75%                     1.000000                     2.000000   \n",
       "max                     4.000000                     4.000000   \n",
       "\n",
       "       account_worst_status_3_6m  ...  status_3rd_last_archived_0_24m  \\\n",
       "count               42274.000000  ...                    99976.000000   \n",
       "mean                    1.185291  ...                        0.744299   \n",
       "std                     0.443309  ...                        0.634912   \n",
       "min                     1.000000  ...                        0.000000   \n",
       "25%                     1.000000  ...                        0.000000   \n",
       "50%                     1.000000  ...                        1.000000   \n",
       "75%                     1.000000  ...                        1.000000   \n",
       "max                     4.000000  ...                        5.000000   \n",
       "\n",
       "       status_max_archived_0_6_months  status_max_archived_0_12_months  \\\n",
       "count                    99976.000000                     99976.000000   \n",
       "mean                         0.800582                         1.052233   \n",
       "std                          0.719946                         0.786121   \n",
       "min                          0.000000                         0.000000   \n",
       "25%                          0.000000                         1.000000   \n",
       "50%                          1.000000                         1.000000   \n",
       "75%                          1.000000                         1.000000   \n",
       "max                          3.000000                         5.000000   \n",
       "\n",
       "       status_max_archived_0_24_months  recovery_debt  \\\n",
       "count                     99976.000000   99976.000000   \n",
       "mean                          1.226164       4.035429   \n",
       "std                           0.833502     163.934564   \n",
       "min                           0.000000       0.000000   \n",
       "25%                           1.000000       0.000000   \n",
       "50%                           1.000000       0.000000   \n",
       "75%                           2.000000       0.000000   \n",
       "max                           5.000000   36479.000000   \n",
       "\n",
       "       sum_capital_paid_account_0_12m  sum_capital_paid_account_12_24m  \\\n",
       "count                    99976.000000                     99976.000000   \n",
       "mean                     10816.065386                      6542.895325   \n",
       "std                      26463.972170                     19041.223585   \n",
       "min                          0.000000                         0.000000   \n",
       "25%                          0.000000                         0.000000   \n",
       "50%                          0.000000                         0.000000   \n",
       "75%                       9029.750000                        85.000000   \n",
       "max                     571475.000000                    341859.000000   \n",
       "\n",
       "       sum_paid_inv_0_12m    time_hours  worst_status_active_inv  \n",
       "count        9.997600e+04  99976.000000             30461.000000  \n",
       "mean         3.920880e+04     15.329780                 1.121762  \n",
       "std          9.064929e+04      5.031360                 0.343660  \n",
       "min          0.000000e+00      0.000278                 1.000000  \n",
       "25%          2.600000e+03     11.622708                 1.000000  \n",
       "50%          1.599500e+04     15.792778                 1.000000  \n",
       "75%          4.384425e+04     19.542014                 1.000000  \n",
       "max          2.962870e+06     23.999722                 3.000000  \n",
       "\n",
       "[8 rows x 38 columns]"
      ]
     },
     "execution_count": 5,
     "metadata": {},
     "output_type": "execute_result"
    }
   ],
   "source": [
    "df.describe()"
   ]
  },
  {
   "cell_type": "markdown",
   "id": "cdf50bf5",
   "metadata": {},
   "source": [
    "We will create separate lists for the categorical and the numeric column names. We could do this by using df.select_dtypes but in this problem, I'd rather specify the feature names from the problem statement itself for clarity of code. "
   ]
  },
  {
   "cell_type": "code",
   "execution_count": 6,
   "id": "c42d5cf4",
   "metadata": {},
   "outputs": [],
   "source": [
    "# From problem description \n",
    "\n",
    "categorical_cols = ['default', 'account_status', 'account_worst_status_0_3m', 'account_worst_status_12_24m',\n",
    "                    'account_worst_status_3_6m', 'account_worst_status_6_12m', 'merchant_category',\n",
    "                    'merchant_group', 'name_in_email', 'status_last_archived_0_24m', \n",
    "                    'status_2nd_last_archived_0_24m', 'status_3rd_last_archived_0_24m',\n",
    "                    'status_max_archived_0_6_months', 'status_max_archived_0_12_months',\n",
    "                    'status_max_archived_0_24_months', 'worst_status_active_inv', 'has_paid']\n",
    "\n",
    "numeric_cols = df.drop(categorical_cols, axis=1).columns.tolist()"
   ]
  },
  {
   "cell_type": "markdown",
   "id": "00de6dc9",
   "metadata": {},
   "source": [
    "Let's first set aside the test data in order to avoid any sort of bias. The test data consists of the rows where the 'default' column is missing.\n"
   ]
  },
  {
   "cell_type": "code",
   "execution_count": 7,
   "id": "e67b691d",
   "metadata": {},
   "outputs": [],
   "source": [
    "test = df[df['default'].isnull()].drop(['uuid', 'default'], axis=1)\n",
    "train = df.dropna(subset=['default'], axis=0)"
   ]
  },
  {
   "cell_type": "code",
   "execution_count": 8,
   "id": "4dda3529",
   "metadata": {},
   "outputs": [],
   "source": [
    "target = train['default']\n",
    "train = train.drop(['uuid', 'default'], axis=1)"
   ]
  },
  {
   "cell_type": "code",
   "execution_count": 9,
   "id": "0ce07f3b",
   "metadata": {},
   "outputs": [
    {
     "name": "stdout",
     "output_type": "stream",
     "text": [
      "Shape of the test data: (10000, 41)\n"
     ]
    }
   ],
   "source": [
    "print('Shape of the test data:', test.shape)"
   ]
  },
  {
   "cell_type": "code",
   "execution_count": 10,
   "id": "ba58d0d7",
   "metadata": {},
   "outputs": [
    {
     "name": "stdout",
     "output_type": "stream",
     "text": [
      "Shape of the training data: (89976, 41)\n"
     ]
    }
   ],
   "source": [
    "print('Shape of the training data:', train.shape)"
   ]
  },
  {
   "cell_type": "markdown",
   "id": "75171dd8",
   "metadata": {},
   "source": [
    "Ideally, for the remainder of the project we will not look at the test data. We will do all of our data exploration and modelling on the train data itself. "
   ]
  },
  {
   "cell_type": "markdown",
   "id": "c511d007",
   "metadata": {},
   "source": [
    "**The target variable** <br>\n",
    "The goal here is to build a model that can predict the probability of a loan default given a set of features. Before we get into more EDA and model building, we'll do a quick exploration of the target variable, or the dependent variable, 'default'."
   ]
  },
  {
   "cell_type": "code",
   "execution_count": 11,
   "id": "3fcdc14f",
   "metadata": {},
   "outputs": [
    {
     "data": {
      "text/plain": [
       "0.0    0.985685\n",
       "1.0    0.014315\n",
       "Name: default, dtype: float64"
      ]
     },
     "metadata": {},
     "output_type": "display_data"
    },
    {
     "data": {
      "image/png": "[encoded data removed]",
      "text/plain": [
       "<Figure size 432x288 with 1 Axes>"
      ]
     },
     "metadata": {
      "needs_background": "light"
     },
     "output_type": "display_data"
    }
   ],
   "source": [
    "target.value_counts().plot(kind='bar');\n",
    "display(target.value_counts(normalize=True))"
   ]
  },
  {
   "cell_type": "markdown",
   "id": "5e21acec",
   "metadata": {},
   "source": [
    "As expected in such problems, the target variable is heavily imbalanced. The defaults occur only **1.43%** of the times. \n",
    "We can either treat this as an **imbalanced classification** problem, or we can treat it as an **anomaly detection** problem."
   ]
  },
  {
   "cell_type": "markdown",
   "id": "fad5a434",
   "metadata": {},
   "source": [
    "Before diving into further data exploration, let's quickly train a model and try to get an idea of feature importances from it. We can then do deep dives into individual features, and maybe engineer a few features as well.\n",
    "\n",
    "For that, we will first have to take care of the missing values, as well as the categorical features."
   ]
  },
  {
   "cell_type": "markdown",
   "id": "af30bd68",
   "metadata": {},
   "source": [
    "**Missing Values**"
   ]
  },
  {
   "cell_type": "code",
   "execution_count": 12,
   "id": "466059ce",
   "metadata": {},
   "outputs": [
    {
     "data": {
      "text/plain": [
       "worst_status_active_inv                0.695074\n",
       "account_worst_status_12_24m            0.667456\n",
       "account_worst_status_6_12m             0.603639\n",
       "account_incoming_debt_vs_paid_0_24m    0.593014\n",
       "account_worst_status_3_6m              0.577243\n",
       "account_status                         0.543856\n",
       "account_worst_status_0_3m              0.543856\n",
       "avg_payment_span_0_3m                  0.493265\n",
       "avg_payment_span_0_12m                 0.238597\n",
       "num_active_div_by_paid_inv_0_12m       0.229595\n",
       "num_arch_written_off_0_12m             0.181215\n",
       "num_arch_written_off_12_24m            0.181215\n",
       "account_days_in_dc_12_24m              0.118732\n",
       "account_days_in_rem_12_24m             0.118732\n",
       "account_days_in_term_12_24m            0.118732\n",
       "dtype: float64"
      ]
     },
     "metadata": {},
     "output_type": "display_data"
    }
   ],
   "source": [
    "# Get sub-dataframe of just the missing columns\n",
    "\n",
    "missing = train.isnull().mean()\n",
    "cols_with_missing = missing[missing > 0].index\n",
    "\n",
    "display(missing[missing > 0].sort_values(ascending=False))\n",
    "\n",
    "missing = train[cols_with_missing]"
   ]
  },
  {
   "cell_type": "markdown",
   "id": "7b9dcee1",
   "metadata": {},
   "source": [
    "For the purposes of this baseline model, we will just **drop the columns which have missing values**. \n",
    "Since we are straight up dropping the columns, it won't matter whether we do this after a train-validation split or before. "
   ]
  },
  {
   "cell_type": "markdown",
   "id": "055a8e30",
   "metadata": {},
   "source": []
  },
  {
   "cell_type": "code",
   "execution_count": null,
   "id": "7efd5485",
   "metadata": {},
   "outputs": [],
   "source": [
    "def drop_missing_cols(df, cols):\n",
    "    return df.drop(cols, axis=1)"
   ]
  },
  {
   "cell_type": "code",
   "execution_count": null,
   "id": "eade24e7",
   "metadata": {},
   "outputs": [],
   "source": [
    "train = drop_missing_cols(train, cols_with_missing)"
   ]
  },
  {
   "cell_type": "code",
   "execution_count": 13,
   "id": "0c529b8e",
   "metadata": {},
   "outputs": [],
   "source": [
    "train = train.drop('merchant_category', axis=1)"
   ]
  },
  {
   "cell_type": "code",
   "execution_count": 14,
   "id": "d4da2851",
   "metadata": {},
   "outputs": [
    {
     "data": {
      "text/plain": [
       "(89976, 40)"
      ]
     },
     "execution_count": 14,
     "metadata": {},
     "output_type": "execute_result"
    }
   ],
   "source": [
    "train.shape"
   ]
  },
  {
   "cell_type": "code",
   "execution_count": 15,
   "id": "4d74faec",
   "metadata": {},
   "outputs": [],
   "source": [
    "FINAL_COLUMNS = train.columns.tolist()"
   ]
  },
  {
   "cell_type": "markdown",
   "id": "ac578e4a",
   "metadata": {},
   "source": [
    "The number of columns have reduced from 42 to 26 after dropping the columns with missing values. "
   ]
  },
  {
   "cell_type": "markdown",
   "id": "aba34754",
   "metadata": {},
   "source": [
    "**Create a train-validation split** <br>\n",
    "Before we proceed further, this would be a good point to create a train-validation split and continue pre-processing this smaller training data. \n",
    "Since the number of data points vs. features is fairly high, we will go ahead with a train-val split rather than cross-validation (at least for this baseline model)."
   ]
  },
  {
   "cell_type": "code",
   "execution_count": 16,
   "id": "7d01c722",
   "metadata": {},
   "outputs": [],
   "source": [
    "X_train, X_val, y_train, y_val = train_test_split(train, target, test_size=0.2, random_state=1)"
   ]
  },
  {
   "cell_type": "code",
   "execution_count": 17,
   "id": "5e112a50",
   "metadata": {},
   "outputs": [
    {
     "name": "stdout",
     "output_type": "stream",
     "text": [
      "Training data shape: (71980, 40)\n",
      "Validation data shape: (17996, 40)\n"
     ]
    }
   ],
   "source": [
    "print('Training data shape:', X_train.shape)\n",
    "print('Validation data shape:', X_val.shape)"
   ]
  },
  {
   "cell_type": "markdown",
   "id": "a7b7a050",
   "metadata": {},
   "source": [
    "**Categorical Columns** <br>\n",
    "We know that models require us to convert variables where the categorical variables aren't encoded as numbers. This can be done either through Label Encoding or One Hot Encoding. \n",
    "For this baseline approach, we will just OHE all the categorical variables. "
   ]
  },
  {
   "cell_type": "code",
   "execution_count": 18,
   "id": "ac0bf490",
   "metadata": {},
   "outputs": [],
   "source": [
    "# Extract DF of categorical columns\n",
    "cat_cols_final = [col for col in categorical_cols if col in X_train.columns]\n",
    "cat_df_train = X_train[cat_cols_final]"
   ]
  },
  {
   "cell_type": "code",
   "execution_count": 19,
   "id": "0a492997",
   "metadata": {},
   "outputs": [
    {
     "data": {
      "text/html": [
       "<div>\n",
       "<style scoped>\n",
       "    .dataframe tbody tr th:only-of-type {\n",
       "        vertical-align: middle;\n",
       "    }\n",
       "\n",
       "    .dataframe tbody tr th {\n",
       "        vertical-align: top;\n",
       "    }\n",
       "\n",
       "    .dataframe thead th {\n",
       "        text-align: right;\n",
       "    }\n",
       "</style>\n",
       "<table border=\"1\" class=\"dataframe\">\n",
       "  <thead>\n",
       "    <tr style=\"text-align: right;\">\n",
       "      <th></th>\n",
       "      <th>account_status</th>\n",
       "      <th>account_worst_status_0_3m</th>\n",
       "      <th>account_worst_status_12_24m</th>\n",
       "      <th>account_worst_status_3_6m</th>\n",
       "      <th>account_worst_status_6_12m</th>\n",
       "      <th>merchant_group</th>\n",
       "      <th>name_in_email</th>\n",
       "      <th>status_last_archived_0_24m</th>\n",
       "      <th>status_2nd_last_archived_0_24m</th>\n",
       "      <th>status_3rd_last_archived_0_24m</th>\n",
       "      <th>status_max_archived_0_6_months</th>\n",
       "      <th>status_max_archived_0_12_months</th>\n",
       "      <th>status_max_archived_0_24_months</th>\n",
       "      <th>worst_status_active_inv</th>\n",
       "      <th>has_paid</th>\n",
       "    </tr>\n",
       "  </thead>\n",
       "  <tbody>\n",
       "    <tr>\n",
       "      <th>25564</th>\n",
       "      <td>1.0</td>\n",
       "      <td>1.0</td>\n",
       "      <td>NaN</td>\n",
       "      <td>1.0</td>\n",
       "      <td>1.0</td>\n",
       "      <td>Clothing &amp; Shoes</td>\n",
       "      <td>F+L</td>\n",
       "      <td>1</td>\n",
       "      <td>1</td>\n",
       "      <td>1</td>\n",
       "      <td>1</td>\n",
       "      <td>2</td>\n",
       "      <td>2</td>\n",
       "      <td>NaN</td>\n",
       "      <td>True</td>\n",
       "    </tr>\n",
       "    <tr>\n",
       "      <th>42077</th>\n",
       "      <td>NaN</td>\n",
       "      <td>NaN</td>\n",
       "      <td>NaN</td>\n",
       "      <td>NaN</td>\n",
       "      <td>NaN</td>\n",
       "      <td>Health &amp; Beauty</td>\n",
       "      <td>Nick</td>\n",
       "      <td>1</td>\n",
       "      <td>0</td>\n",
       "      <td>0</td>\n",
       "      <td>1</td>\n",
       "      <td>1</td>\n",
       "      <td>1</td>\n",
       "      <td>NaN</td>\n",
       "      <td>True</td>\n",
       "    </tr>\n",
       "    <tr>\n",
       "      <th>47940</th>\n",
       "      <td>1.0</td>\n",
       "      <td>1.0</td>\n",
       "      <td>1.0</td>\n",
       "      <td>1.0</td>\n",
       "      <td>1.0</td>\n",
       "      <td>Home &amp; Garden</td>\n",
       "      <td>F+L</td>\n",
       "      <td>1</td>\n",
       "      <td>1</td>\n",
       "      <td>1</td>\n",
       "      <td>2</td>\n",
       "      <td>2</td>\n",
       "      <td>2</td>\n",
       "      <td>1.0</td>\n",
       "      <td>True</td>\n",
       "    </tr>\n",
       "  </tbody>\n",
       "</table>\n",
       "</div>"
      ],
      "text/plain": [
       "       account_status  account_worst_status_0_3m  account_worst_status_12_24m  \\\n",
       "25564             1.0                        1.0                          NaN   \n",
       "42077             NaN                        NaN                          NaN   \n",
       "47940             1.0                        1.0                          1.0   \n",
       "\n",
       "       account_worst_status_3_6m  account_worst_status_6_12m  \\\n",
       "25564                        1.0                         1.0   \n",
       "42077                        NaN                         NaN   \n",
       "47940                        1.0                         1.0   \n",
       "\n",
       "         merchant_group name_in_email  status_last_archived_0_24m  \\\n",
       "25564  Clothing & Shoes           F+L                           1   \n",
       "42077   Health & Beauty          Nick                           1   \n",
       "47940     Home & Garden           F+L                           1   \n",
       "\n",
       "       status_2nd_last_archived_0_24m  status_3rd_last_archived_0_24m  \\\n",
       "25564                               1                               1   \n",
       "42077                               0                               0   \n",
       "47940                               1                               1   \n",
       "\n",
       "       status_max_archived_0_6_months  status_max_archived_0_12_months  \\\n",
       "25564                               1                                2   \n",
       "42077                               1                                1   \n",
       "47940                               2                                2   \n",
       "\n",
       "       status_max_archived_0_24_months  worst_status_active_inv  has_paid  \n",
       "25564                                2                      NaN      True  \n",
       "42077                                1                      NaN      True  \n",
       "47940                                2                      1.0      True  "
      ]
     },
     "execution_count": 19,
     "metadata": {},
     "output_type": "execute_result"
    }
   ],
   "source": [
    "cat_df_train.head(3)"
   ]
  },
  {
   "cell_type": "code",
   "execution_count": 20,
   "id": "acc1d509",
   "metadata": {},
   "outputs": [
    {
     "name": "stdout",
     "output_type": "stream",
     "text": [
      "Number of categorical columns: 15\n"
     ]
    }
   ],
   "source": [
    "print(f'Number of categorical columns: {cat_df_train.shape[1]}')"
   ]
  },
  {
   "cell_type": "code",
   "execution_count": 21,
   "id": "960160dc",
   "metadata": {},
   "outputs": [
    {
     "data": {
      "text/plain": [
       "account_status                      4\n",
       "account_worst_status_0_3m           4\n",
       "account_worst_status_12_24m         4\n",
       "account_worst_status_3_6m           4\n",
       "account_worst_status_6_12m          4\n",
       "merchant_group                     12\n",
       "name_in_email                       8\n",
       "status_last_archived_0_24m          5\n",
       "status_2nd_last_archived_0_24m      5\n",
       "status_3rd_last_archived_0_24m      5\n",
       "status_max_archived_0_6_months      4\n",
       "status_max_archived_0_12_months     5\n",
       "status_max_archived_0_24_months     5\n",
       "worst_status_active_inv             3\n",
       "has_paid                            2\n",
       "dtype: int64"
      ]
     },
     "execution_count": 21,
     "metadata": {},
     "output_type": "execute_result"
    }
   ],
   "source": [
    "# Get count of unique values in each column so that we understand how our dataframe will expand upon OHE\n",
    "cat_df_train.nunique()"
   ]
  },
  {
   "cell_type": "markdown",
   "id": "978a5ae5",
   "metadata": {},
   "source": [
    "The 'merchant_category' column will cause our dataframe to explode and contain too many columns. For the purposes of this baseline approach, we will just drop that column and instead use the 'merchant_group' as a fairly good proxy for the 'merchant_category' problem. "
   ]
  },
  {
   "cell_type": "code",
   "execution_count": 22,
   "id": "e94381cf",
   "metadata": {},
   "outputs": [],
   "source": [
    "FINAL_CAT_COLS = cat_df_train.columns.tolist()"
   ]
  },
  {
   "cell_type": "code",
   "execution_count": 23,
   "id": "5a0c5ee3",
   "metadata": {},
   "outputs": [],
   "source": [
    "ohe = OneHotEncoder(handle_unknown='ignore', sparse=False)\n",
    "\n",
    "ohe_data = ohe.fit_transform(cat_df_train)\n",
    "cat_df_train = pd.DataFrame(ohe_data, columns=ohe.get_feature_names_out()).astype(int)"
   ]
  },
  {
   "cell_type": "code",
   "execution_count": 24,
   "id": "d441670c",
   "metadata": {},
   "outputs": [
    {
     "name": "stdout",
     "output_type": "stream",
     "text": [
      "Shape of categorical data after OHE: (71980, 80)\n"
     ]
    }
   ],
   "source": [
    "print(f'Shape of categorical data after OHE: {cat_df_train.shape}')"
   ]
  },
  {
   "cell_type": "markdown",
   "id": "03a3aab6",
   "metadata": {},
   "source": [
    "We now have converted our categorical columns into the right data format in order to feed it to an ML model. We will combine the numeric dataframe with the categorical one to get our entire training DF."
   ]
  },
  {
   "cell_type": "code",
   "execution_count": 25,
   "id": "15049fb9",
   "metadata": {},
   "outputs": [],
   "source": [
    "categorical_cols = FINAL_CAT_COLS\n",
    "numeric_cols = list(set(FINAL_COLUMNS) - set(FINAL_CAT_COLS))\n",
    "\n",
    "cat_df = X_train[categorical_cols]\n",
    "numeric_df = X_train[numeric_cols]\n",
    "\n",
    "ohe = OneHotEncoder(handle_unknown='ignore', sparse=False)\n",
    "\n",
    "ohe_data = ohe.fit_transform(cat_df)\n",
    "cat_df = pd.DataFrame(ohe_data, columns=ohe.get_feature_names_out(), index=cat_df.index).astype(int)\n",
    "\n",
    "X_train = pd.concat([numeric_df, cat_df], axis=1)"
   ]
  },
  {
   "cell_type": "code",
   "execution_count": 26,
   "id": "e7a3fc3f",
   "metadata": {},
   "outputs": [],
   "source": [
    "# OHE for X_val\n",
    "cat_df_val = X_val[categorical_cols]\n",
    "numeric_df_val = X_val[numeric_cols]\n",
    "\n",
    "ohe_data = ohe.transform(cat_df_val)\n",
    "cat_df_val = pd.DataFrame(ohe_data, columns=ohe.get_feature_names_out(), index=cat_df_val.index).astype(int)\n",
    "\n",
    "X_val = pd.concat([numeric_df_val, cat_df_val], axis=1)"
   ]
  },
  {
   "cell_type": "code",
   "execution_count": 27,
   "id": "1506d749",
   "metadata": {},
   "outputs": [
    {
     "name": "stdout",
     "output_type": "stream",
     "text": [
      "Train data shape after OHE: (71980, 105)\n",
      "Validation data shape after OHE: (17996, 105)\n"
     ]
    }
   ],
   "source": [
    "print(f'Train data shape after OHE: {X_train.shape}')\n",
    "print(f'Validation data shape after OHE: {X_val.shape}')"
   ]
  },
  {
   "cell_type": "markdown",
   "id": "e3c1e514",
   "metadata": {},
   "source": [
    "**PCA**"
   ]
  },
  {
   "cell_type": "code",
   "execution_count": null,
   "id": "ab4b59a5",
   "metadata": {},
   "outputs": [],
   "source": [
    "pca = PCA(n_components=5)\n",
    "pca_data_train = pca.fit_transform(X_train)\n",
    "pca_data_valid = pca.transform(X_val)"
   ]
  },
  {
   "cell_type": "code",
   "execution_count": null,
   "id": "a7c78013",
   "metadata": {},
   "outputs": [],
   "source": [
    "print(f'Explained Variance: {round(pca.explained_variance_ratio_.sum(), 4) * 100}%')"
   ]
  },
  {
   "cell_type": "markdown",
   "id": "76fec652",
   "metadata": {},
   "source": [
    "**Model Building and Evaluation**"
   ]
  },
  {
   "cell_type": "code",
   "execution_count": 29,
   "id": "a4128805",
   "metadata": {},
   "outputs": [
    {
     "name": "stdout",
     "output_type": "stream",
     "text": [
      "Target distribution in train data\n"
     ]
    },
    {
     "data": {
      "text/plain": [
       "0.0    0.985746\n",
       "1.0    0.014254\n",
       "Name: default, dtype: float64"
      ]
     },
     "metadata": {},
     "output_type": "display_data"
    },
    {
     "name": "stdout",
     "output_type": "stream",
     "text": [
      "Target distribution in validation data\n"
     ]
    },
    {
     "data": {
      "text/plain": [
       "0.0    0.985441\n",
       "1.0    0.014559\n",
       "Name: default, dtype: float64"
      ]
     },
     "metadata": {},
     "output_type": "display_data"
    }
   ],
   "source": [
    "# Quickly check target variable distribution in train and validation data\n",
    "print('Target distribution in train data')\n",
    "display(y_train.value_counts(normalize=True))\n",
    "\n",
    "print('Target distribution in validation data')\n",
    "display(y_val.value_counts(normalize=True))"
   ]
  },
  {
   "cell_type": "code",
   "execution_count": 30,
   "id": "03a21bf2",
   "metadata": {},
   "outputs": [],
   "source": [
    "model = XGBClassifier(random_state=1)\n",
    "#model = RandomForestClassifier(n_estimators=250, n_jobs=-1, random_state=1)"
   ]
  },
  {
   "cell_type": "code",
   "execution_count": 31,
   "id": "d72dbc99",
   "metadata": {},
   "outputs": [
    {
     "name": "stdout",
     "output_type": "stream",
     "text": [
      "[23:02:39] WARNING: C:/Users/Administrator/workspace/xgboost-win64_release_1.5.1/src/learner.cc:1115: Starting in XGBoost 1.3.0, the default evaluation metric used with the objective 'binary:logistic' was changed from 'error' to 'logloss'. Explicitly set eval_metric if you'd like to restore the old behavior.\n"
     ]
    },
    {
     "data": {
      "text/plain": [
       "XGBClassifier(base_score=0.5, booster='gbtree', colsample_bylevel=1,\n",
       "              colsample_bynode=1, colsample_bytree=1, enable_categorical=False,\n",
       "              gamma=0, gpu_id=-1, importance_type=None,\n",
       "              interaction_constraints='', learning_rate=0.300000012,\n",
       "              max_delta_step=0, max_depth=6, min_child_weight=1, missing=nan,\n",
       "              monotone_constraints='()', n_estimators=100, n_jobs=12,\n",
       "              num_parallel_tree=1, predictor='auto', random_state=1,\n",
       "              reg_alpha=0, reg_lambda=1, scale_pos_weight=1, subsample=1,\n",
       "              tree_method='exact', validate_parameters=1, verbosity=None)"
      ]
     },
     "execution_count": 31,
     "metadata": {},
     "output_type": "execute_result"
    }
   ],
   "source": [
    "# Fit the model on train data\n",
    "model.fit(X_train, y_train)"
   ]
  },
  {
   "cell_type": "code",
   "execution_count": 32,
   "id": "c9df082f",
   "metadata": {},
   "outputs": [],
   "source": [
    "# Get predictions for train and test data:\n",
    "y_pred_train = model.predict(X_train)\n",
    "y_pred_val = model.predict(X_val)"
   ]
  },
  {
   "cell_type": "code",
   "execution_count": 33,
   "id": "9361c272",
   "metadata": {},
   "outputs": [
    {
     "name": "stdout",
     "output_type": "stream",
     "text": [
      "Model performance on training data:\n",
      "\n",
      "              precision    recall  f1-score   support\n",
      "\n",
      "         0.0       0.99      1.00      1.00     70954\n",
      "         1.0       1.00      0.57      0.72      1026\n",
      "\n",
      "    accuracy                           0.99     71980\n",
      "   macro avg       1.00      0.78      0.86     71980\n",
      "weighted avg       0.99      0.99      0.99     71980\n",
      "\n",
      "ROC AUC Score: 0.99\n"
     ]
    }
   ],
   "source": [
    "# Model evaluation\n",
    "print('Model performance on training data:\\n')\n",
    "print(classification_report(y_train, y_pred_train))\n",
    "print(f'ROC AUC Score: {round(roc_auc_score(y_train, model.predict_proba(X_train)[:, 1]), 2)}')"
   ]
  },
  {
   "cell_type": "markdown",
   "id": "77a229f1",
   "metadata": {},
   "source": [
    "This simple basline model is performing quite well on the training data. Let's look at the validation data to see if this is due to some overfitting. "
   ]
  },
  {
   "cell_type": "code",
   "execution_count": 34,
   "id": "c7eb47fb",
   "metadata": {},
   "outputs": [
    {
     "name": "stdout",
     "output_type": "stream",
     "text": [
      "Model performance on validation data:\n",
      "\n",
      "              precision    recall  f1-score   support\n",
      "\n",
      "         0.0       0.99      1.00      0.99     17734\n",
      "         1.0       0.65      0.11      0.19       262\n",
      "\n",
      "    accuracy                           0.99     17996\n",
      "   macro avg       0.82      0.56      0.59     17996\n",
      "weighted avg       0.98      0.99      0.98     17996\n",
      "\n",
      "ROC AUC Score: 0.9\n"
     ]
    }
   ],
   "source": [
    "# Model evaluation\n",
    "print('Model performance on validation data:\\n')\n",
    "print(classification_report(y_val, y_pred_val))\n",
    "print(f'ROC AUC Score: {round(roc_auc_score(y_val, model.predict_proba(X_val)[:, 1]), 2)}')"
   ]
  },
  {
   "cell_type": "markdown",
   "id": "9e2d1619",
   "metadata": {},
   "source": [
    "The model is clearly overfitting on our data. For now, we won't concern ourselves with improving the results of this model since the purpose of this activity is to just build an end-to-end pipeline that functions from an engineering standpoint. "
   ]
  },
  {
   "cell_type": "code",
   "execution_count": 35,
   "id": "a0e5a01c",
   "metadata": {},
   "outputs": [
    {
     "data": {
      "image/png": "[encoded data removed]",
      "text/plain": [
       "<Figure size 720x720 with 1 Axes>"
      ]
     },
     "metadata": {
      "needs_background": "light"
     },
     "output_type": "display_data"
    }
   ],
   "source": [
    "plt.figure(figsize=(10, 10))\n",
    "pd.Series(model.feature_importances_, index=X_train.columns).sort_values(ascending=True).tail(10).plot(kind='barh');"
   ]
  },
  {
   "cell_type": "markdown",
   "id": "41c1a052",
   "metadata": {},
   "source": [
    "**Let's see the performance on the PCA data**"
   ]
  },
  {
   "cell_type": "code",
   "execution_count": null,
   "id": "b3f46426",
   "metadata": {},
   "outputs": [],
   "source": [
    "model = XGBClassifier(random_state=1)"
   ]
  },
  {
   "cell_type": "code",
   "execution_count": null,
   "id": "15ce6270",
   "metadata": {},
   "outputs": [],
   "source": [
    "model.fit(pca_data_train, y_train)"
   ]
  },
  {
   "cell_type": "code",
   "execution_count": null,
   "id": "d2d9f01c",
   "metadata": {},
   "outputs": [],
   "source": [
    "# Get predictions for train and test data:\n",
    "y_pred_train = model.predict(pca_data_train)\n",
    "y_pred_val = model.predict(pca_data_valid)"
   ]
  },
  {
   "cell_type": "code",
   "execution_count": null,
   "id": "da539b91",
   "metadata": {},
   "outputs": [],
   "source": [
    "# Model evaluation\n",
    "print('Model performance on training data:\\n')\n",
    "print(classification_report(y_train, y_pred_train))\n",
    "print(f'ROC AUC Score: {round(roc_auc_score(y_train, model.predict_proba(pca_data_train)[:, 1]), 2)}')"
   ]
  },
  {
   "cell_type": "markdown",
   "id": "9b67b485",
   "metadata": {},
   "source": [
    "This simple basline model is performing quite well on the training data. Let's look at the validation data to see if this is due to some overfitting. "
   ]
  },
  {
   "cell_type": "markdown",
   "id": "5779d054",
   "metadata": {},
   "source": [
    "We're observing that this is not making too much of a difference either. "
   ]
  },
  {
   "cell_type": "code",
   "execution_count": null,
   "id": "51c134d1",
   "metadata": {},
   "outputs": [],
   "source": [
    "# Model evaluation\n",
    "print('Model performance on validation data:\\n')\n",
    "print(classification_report(y_val, y_pred_val))\n",
    "print(f'ROC AUC Score: {round(roc_auc_score(y_val, model.predict_proba(pca_data_valid)[:, 1]), 2)}')"
   ]
  },
  {
   "cell_type": "markdown",
   "id": "95817da9",
   "metadata": {},
   "source": [
    "For our experiments, let's define a function that evaluates the given model on our train and validation dataset. "
   ]
  },
  {
   "cell_type": "code",
   "execution_count": 36,
   "id": "615a744a",
   "metadata": {},
   "outputs": [],
   "source": [
    "def evaluate_model(X, y, X_train, X_val):\n",
    "    model = XGBClassifier(random_state=1)\n",
    "    model.fit(X, y)\n",
    "    \n",
    "    # Get predictions for train and test data:\n",
    "    y_pred_train = model.predict(X_train)\n",
    "    y_pred_val = model.predict(X_val)\n",
    "    \n",
    "    # Model evaluation on training data\n",
    "    print('Model performance on training data:\\n')\n",
    "    print(classification_report(y_train, y_pred_train))\n",
    "    print(f'ROC AUC Score: {round(roc_auc_score(y_train, model.predict_proba(X_train)[:, 1]), 2)}')\n",
    "    \n",
    "    # Model evaluation on validation data\n",
    "    print('Model performance on validation data:\\n')\n",
    "    print(classification_report(y_val, y_pred_val))\n",
    "    print(f'ROC AUC Score: {round(roc_auc_score(y_val, model.predict_proba(X_val)[:, 1]), 2)}')"
   ]
  },
  {
   "cell_type": "markdown",
   "id": "0edc3ec5",
   "metadata": {},
   "source": [
    "**Dealing with the class imbalance**"
   ]
  },
  {
   "cell_type": "markdown",
   "id": "4c995abe",
   "metadata": {},
   "source": [
    "We will try out different methods of dealing with the oversampling and see how it changes the model outputs."
   ]
  },
  {
   "cell_type": "markdown",
   "id": "2760d678",
   "metadata": {},
   "source": [
    "**Random Oversampling**"
   ]
  },
  {
   "cell_type": "code",
   "execution_count": 37,
   "id": "c99c6b48",
   "metadata": {},
   "outputs": [],
   "source": [
    "from imblearn.over_sampling import RandomOverSampler"
   ]
  },
  {
   "cell_type": "code",
   "execution_count": 38,
   "id": "9615bd0e",
   "metadata": {},
   "outputs": [],
   "source": [
    "ros = RandomOverSampler(random_state=1)"
   ]
  },
  {
   "cell_type": "code",
   "execution_count": 39,
   "id": "236bfb1b",
   "metadata": {},
   "outputs": [],
   "source": [
    "X_resampled, y_resampled = ros.fit_resample(X_train, y_train)"
   ]
  },
  {
   "cell_type": "code",
   "execution_count": 51,
   "id": "054b861e",
   "metadata": {},
   "outputs": [
    {
     "name": "stdout",
     "output_type": "stream",
     "text": [
      "[23:06:30] WARNING: C:/Users/Administrator/workspace/xgboost-win64_release_1.5.1/src/learner.cc:1115: Starting in XGBoost 1.3.0, the default evaluation metric used with the objective 'binary:logistic' was changed from 'error' to 'logloss'. Explicitly set eval_metric if you'd like to restore the old behavior.\n",
      "Model performance on training data:\n",
      "\n",
      "              precision    recall  f1-score   support\n",
      "\n",
      "         0.0       1.00      0.94      0.97     70954\n",
      "         1.0       0.21      0.99      0.34      1026\n",
      "\n",
      "    accuracy                           0.95     71980\n",
      "   macro avg       0.60      0.97      0.66     71980\n",
      "weighted avg       0.99      0.95      0.96     71980\n",
      "\n",
      "ROC AUC Score: 1.0\n",
      "Model performance on validation data:\n",
      "\n",
      "              precision    recall  f1-score   support\n",
      "\n",
      "         0.0       0.99      0.94      0.96     17734\n",
      "         1.0       0.10      0.48      0.17       262\n",
      "\n",
      "    accuracy                           0.93     17996\n",
      "   macro avg       0.55      0.71      0.57     17996\n",
      "weighted avg       0.98      0.93      0.95     17996\n",
      "\n",
      "ROC AUC Score: 0.86\n"
     ]
    }
   ],
   "source": [
    "evaluate_model(X_resampled, y_resampled, X_train, X_val)"
   ]
  },
  {
   "cell_type": "markdown",
   "id": "22a43bd8",
   "metadata": {},
   "source": [
    "**SMOTE**"
   ]
  },
  {
   "cell_type": "code",
   "execution_count": 52,
   "id": "7f8892cc",
   "metadata": {},
   "outputs": [],
   "source": [
    "from imblearn.over_sampling import SMOTE"
   ]
  },
  {
   "cell_type": "code",
   "execution_count": 53,
   "id": "a13f7b31",
   "metadata": {},
   "outputs": [],
   "source": [
    "smote = SMOTE()"
   ]
  },
  {
   "cell_type": "code",
   "execution_count": null,
   "id": "c538aa2b",
   "metadata": {},
   "outputs": [],
   "source": [
    "X_resampled, y_resampled = smote.fit_resample(X_train, y_train)"
   ]
  },
  {
   "cell_type": "code",
   "execution_count": null,
   "id": "94db4f54",
   "metadata": {},
   "outputs": [],
   "source": [
    "evaluate_model(X_resampled, y_resampled, X_train, y_train)"
   ]
  },
  {
   "cell_type": "markdown",
   "id": "70c97035",
   "metadata": {},
   "source": [
    "**ADASYN**"
   ]
  },
  {
   "cell_type": "code",
   "execution_count": 55,
   "id": "13d0f7fb",
   "metadata": {},
   "outputs": [],
   "source": [
    "from imblearn.over_sampling import ADASYN"
   ]
  },
  {
   "cell_type": "code",
   "execution_count": 56,
   "id": "e885276e",
   "metadata": {},
   "outputs": [],
   "source": [
    "adasyn = ADASYN()"
   ]
  },
  {
   "cell_type": "code",
   "execution_count": null,
   "id": "988f6603",
   "metadata": {},
   "outputs": [],
   "source": [
    "X_resampled, y_resampled = adasyn.fit_resample(X_train, y_train)"
   ]
  },
  {
   "cell_type": "code",
   "execution_count": null,
   "id": "bcab5a22",
   "metadata": {},
   "outputs": [],
   "source": [
    "evaluate_model(X_resampled, y_resampled)"
   ]
  },
  {
   "cell_type": "markdown",
   "id": "b174fcdb",
   "metadata": {},
   "source": [
    "**Random Undersampling**"
   ]
  },
  {
   "cell_type": "code",
   "execution_count": 58,
   "id": "042cd557",
   "metadata": {},
   "outputs": [],
   "source": [
    "from imblearn.under_sampling import RandomUnderSampler"
   ]
  },
  {
   "cell_type": "code",
   "execution_count": 59,
   "id": "29eb18f1",
   "metadata": {},
   "outputs": [],
   "source": [
    "rus = RandomUnderSampler(sampling_strategy=0.5, random_state=1)"
   ]
  },
  {
   "cell_type": "code",
   "execution_count": 60,
   "id": "a3922e27",
   "metadata": {},
   "outputs": [],
   "source": [
    "X_resampled, y_resampled = rus.fit_resample(X_train, y_train)"
   ]
  },
  {
   "cell_type": "code",
   "execution_count": 61,
   "id": "8ef0797a",
   "metadata": {},
   "outputs": [
    {
     "name": "stdout",
     "output_type": "stream",
     "text": [
      "[23:07:40] WARNING: C:/Users/Administrator/workspace/xgboost-win64_release_1.5.1/src/learner.cc:1115: Starting in XGBoost 1.3.0, the default evaluation metric used with the objective 'binary:logistic' was changed from 'error' to 'logloss'. Explicitly set eval_metric if you'd like to restore the old behavior.\n",
      "Model performance on training data:\n",
      "\n",
      "              precision    recall  f1-score   support\n",
      "\n",
      "         0.0       1.00      0.89      0.94     70954\n",
      "         1.0       0.11      0.96      0.19      1026\n",
      "\n",
      "    accuracy                           0.89     71980\n",
      "   macro avg       0.55      0.92      0.57     71980\n",
      "weighted avg       0.99      0.89      0.93     71980\n",
      "\n",
      "ROC AUC Score: 0.97\n",
      "Model performance on validation data:\n",
      "\n",
      "              precision    recall  f1-score   support\n",
      "\n",
      "         0.0       1.00      0.88      0.94     17734\n",
      "         1.0       0.08      0.73      0.15       262\n",
      "\n",
      "    accuracy                           0.88     17996\n",
      "   macro avg       0.54      0.81      0.54     17996\n",
      "weighted avg       0.98      0.88      0.92     17996\n",
      "\n",
      "ROC AUC Score: 0.89\n"
     ]
    }
   ],
   "source": [
    "evaluate_model(X_resampled, y_resampled, X_train, X_val)"
   ]
  },
  {
   "cell_type": "markdown",
   "id": "0e8ed309",
   "metadata": {},
   "source": [
    "On this undersampled data, our model is finally not overfitting too much."
   ]
  }
 ],
 "metadata": {
  "kernelspec": {
   "display_name": "Python 3 (ipykernel)",
   "language": "python",
   "name": "python3"
  },
  "language_info": {
   "codemirror_mode": {
    "name": "ipython",
    "version": 3
   },
   "file_extension": ".py",
   "mimetype": "text/x-python",
   "name": "python",
   "nbconvert_exporter": "python",
   "pygments_lexer": "ipython3",
   "version": "3.7.11"
  }
 },
 "nbformat": 4,
 "nbformat_minor": 5
}
